{
 "cells": [
  {
   "cell_type": "code",
   "execution_count": 2,
   "metadata": {},
   "outputs": [],
   "source": [
    "import pandas as pd\n",
    "from fact.io import read_h5py\n",
    "\n",
    "import numpy as np\n",
    "import matplotlib.pyplot as plt\n",
    "plt.rcParams['figure.figsize'] = [12, 8]"
   ]
  },
  {
   "cell_type": "code",
   "execution_count": 3,
   "metadata": {},
   "outputs": [],
   "source": [
    "SIM_VERSION = '20201023_v0.6.3_prod5_local_wo_n_islands'"
   ]
  },
  {
   "cell_type": "code",
   "execution_count": 4,
   "metadata": {},
   "outputs": [],
   "source": [
    "df_gamma_diff = pd.read_hdf(\n",
    "    f'simulations/dl1_gamma-diffuse_20deg_180deg_{SIM_VERSION}_testing.h5',\n",
    "    key='dl1/event/telescope/parameters/LST_LSTCam'\n",
    ")\n",
    "df_gamma = pd.read_hdf(\n",
    "    f'simulations/dl1_gamma_20deg_180deg_off0.4deg_{SIM_VERSION}_testing.h5',\n",
    "    key='dl1/event/telescope/parameters/LST_LSTCam'\n",
    ")\n",
    "df_proton = pd.read_hdf(\n",
    "    f'simulations/dl1_proton_20deg_180deg_{SIM_VERSION}_testing.h5',\n",
    "    key='dl1/event/telescope/parameters/LST_LSTCam'\n",
    ")"
   ]
  },
  {
   "cell_type": "code",
   "execution_count": 5,
   "metadata": {},
   "outputs": [],
   "source": [
    "max_intensity = 1500\n",
    "df_gamma_diff_selected = df_gamma_diff.query(f'intensity < {max_intensity}')\n",
    "df_gamma_selected = df_gamma.query(f'intensity < {max_intensity}')\n",
    "df_proton_selected = df_proton.query(f'intensity < {max_intensity}')"
   ]
  },
  {
   "cell_type": "code",
   "execution_count": 6,
   "metadata": {},
   "outputs": [
    {
     "data": {
      "text/plain": [
       "<matplotlib.legend.Legend at 0x7fd3e284f6d0>"
      ]
     },
     "execution_count": 6,
     "metadata": {},
     "output_type": "execute_result"
    },
    {
     "data": {
      "image/png": "[encoded data removed]",
      "text/plain": [
       "<Figure size 864x576 with 1 Axes>"
      ]
     },
     "metadata": {
      "needs_background": "light"
     },
     "output_type": "display_data"
    }
   ],
   "source": [
    "plt.hist(df_gamma_diff_selected.intensity, bins=100, histtype='step', cumulative=-1, label='gamma-diffuse training set')\n",
    "plt.hist(df_gamma_selected.intensity, bins=100, histtype='step', cumulative=-1, label='gamma training set')\n",
    "plt.hist(df_proton_selected.intensity, bins=100, histtype='step', cumulative=-1, label='proton training set')\n",
    "\n",
    "plt.xlabel('intensity')\n",
    "plt.ylabel('# events')\n",
    "plt.xlim(0, max_intensity)\n",
    "plt.legend()"
   ]
  },
  {
   "cell_type": "code",
   "execution_count": 17,
   "metadata": {
    "scrolled": true
   },
   "outputs": [
    {
     "name": "stdout",
     "output_type": "stream",
     "text": [
      "obs_id run_array_direction corsika_version simtel_version energy_range_min energy_range_max prod_site_B_total prod_site_B_declination prod_site_B_inclination prod_site_alt spectral_index shower_prog_start shower_prog_id detector_prog_start detector_prog_id num_showers shower_reuse max_alt min_alt max_az min_az diffuse max_viewcone_radius min_viewcone_radius max_scatter_range min_scatter_range core_pos_mode injection_height atmosphere corsika_iact_options corsika_low_E_model corsika_high_E_model corsika_bunchsize corsika_wlen_min corsika_wlen_max corsika_low_E_detail corsika_high_E_detail\n"
     ]
    }
   ],
   "source": [
    "import tables\n",
    "\n",
    "with tables.open_file(f'simulations/dl1_gamma_20deg_180deg_off0.4deg_{SIM_VERSION}_testing.h5') as f:\n",
    "    sim_runs = f.root.simulation.run_config[:]\n",
    "print(*sim_runs.dtype.names)"
   ]
  },
  {
   "cell_type": "code",
   "execution_count": null,
   "metadata": {},
   "outputs": [],
   "source": [
    "from pyirf.simulations import SimulatedEventsInfo\n",
    "\n",
    "SimulatedEventsInfo?\n",
    "#n_showers = sum(num_showers) oder num_showers*shower_reuse\n",
    "#max_impact = max_scatter_range\n",
    "#viewcone = max_viewcone_radius | min_viewcone_radius \n"
   ]
  },
  {
   "cell_type": "code",
   "execution_count": 35,
   "metadata": {},
   "outputs": [
    {
     "name": "stdout",
     "output_type": "stream",
     "text": [
      "True\n"
     ]
    }
   ],
   "source": [
    "import h5py\n",
    "\n",
    "with h5py.File(f'build/dl1_gamma_20deg_180deg_off0.4deg_{SIM_VERSION}_training_precuts.h5', mode='r') as f:\n",
    "    print('corsika_runs' in f)"
   ]
  },
  {
   "cell_type": "code",
   "execution_count": 36,
   "metadata": {
    "scrolled": true
   },
   "outputs": [
    {
     "name": "stdout",
     "output_type": "stream",
     "text": [
      "Index(['alt_tel', 'az_tel', 'calibration_id', 'concentration_cog',\n",
      "       'concentration_core', 'concentration_pixel', 'disp_prediction',\n",
      "       'dragon_time', 'event_id', 'focal_length', 'gamma_energy_prediction',\n",
      "       'gammaness', 'intensity', 'intercept', 'kurtosis',\n",
      "       'leakage_intensity_width_1', 'leakage_intensity_width_2',\n",
      "       'leakage_pixels_width_1', 'leakage_pixels_width_2', 'length',\n",
      "       'log_intensity', 'mc_core_distance', 'mc_type', 'n_islands', 'n_pixels',\n",
      "       'obs_id', 'phi', 'psi', 'r', 'skewness', 'source_alt_prediction',\n",
      "       'source_az_prediction', 'source_dec_prediction', 'source_ra_prediction',\n",
      "       'source_x_prediction', 'source_y_prediction', 'tel_id', 'tel_pos_x',\n",
      "       'tel_pos_y', 'tel_pos_z', 'tib_time', 'time_gradient', 'trigger_time',\n",
      "       'trigger_type', 'ucts_time', 'ucts_trigger_type', 'width', 'wl', 'x',\n",
      "       'y'],\n",
      "      dtype='object')\n"
     ]
    }
   ],
   "source": [
    "run_test = read_h5py('build/dl2_v0.6.1_v05_LST-1.Run02769.h5', key='events')\n",
    "\n",
    "print(run_test.columns)"
   ]
  }
 ],
 "metadata": {
  "kernelspec": {
   "display_name": "Python 3",
   "language": "python",
   "name": "python3"
  },
  "language_info": {
   "codemirror_mode": {
    "name": "ipython",
    "version": 3
   },
   "file_extension": ".py",
   "mimetype": "text/x-python",
   "name": "python",
   "nbconvert_exporter": "python",
   "pygments_lexer": "ipython3",
   "version": "3.8.5"
  }
 },
 "nbformat": 4,
 "nbformat_minor": 4
}
