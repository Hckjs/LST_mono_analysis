{
 "cells": [
  {
   "cell_type": "code",
   "execution_count": 19,
   "metadata": {},
   "outputs": [],
   "source": [
    "import numpy as np\n",
    "import matplotlib.pyplot as plt\n",
    "import astropy.units as u\n",
    "from astropy.table import QTable\n",
    "\n",
    "%matplotlib inline"
   ]
  },
  {
   "cell_type": "code",
   "execution_count": 20,
   "metadata": {},
   "outputs": [],
   "source": [
    "plt.rcParams['figure.figsize'] = (9, 6)"
   ]
  },
  {
   "cell_type": "code",
   "execution_count": 21,
   "metadata": {
    "scrolled": false
   },
   "outputs": [
    {
     "data": {
      "text/html": [
       "<i>QTable length=21</i>\n",
       "<table id=\"table140527341055856\" class=\"table-striped table-bordered table-condensed\">\n",
       "<thead><tr><th>reco_energy_low</th><th>reco_energy_high</th><th>reco_energy_center</th><th>n_signal</th><th>n_signal_weighted</th><th>n_background</th><th>n_background_weighted</th><th>n_electron</th><th>n_electron_weighted</th><th>n_proton</th><th>n_proton_weighted</th><th>significance</th><th>relative_sensitivity</th><th>flux_sensitivity</th></tr></thead>\n",
       "<thead><tr><th>TeV</th><th>TeV</th><th>TeV</th><th></th><th></th><th></th><th></th><th></th><th></th><th></th><th></th><th></th><th></th><th>1 / (cm2 s TeV)</th></tr></thead>\n",
       "<thead><tr><th>float64</th><th>float64</th><th>float64</th><th>float64</th><th>float64</th><th>float64</th><th>float64</th><th>float64</th><th>float64</th><th>float64</th><th>float64</th><th>float64</th><th>float64</th><th>float64</th></tr></thead>\n",
       "<tr><td>0.0158</td><td>0.0251</td><td>0.0205</td><td>nan</td><td>nan</td><td>0.0</td><td>0.0</td><td>0.0</td><td>0.0</td><td>0.0</td><td>0.0</td><td>nan</td><td>inf</td><td>inf</td></tr>\n",
       "<tr><td>0.0251</td><td>0.0398</td><td>0.0325</td><td>185.8</td><td>589.5</td><td>143.4</td><td>56786.3</td><td>95.2</td><td>1953.8</td><td>48.1</td><td>54832.4</td><td>5.000000000000784</td><td>0.25</td><td>5.6e-08</td></tr>\n",
       "<tr><td>0.0398</td><td>0.0631</td><td>0.0515</td><td>408.0</td><td>883.1</td><td>473.1</td><td>88312.6</td><td>397.3</td><td>5176.0</td><td>75.8</td><td>83136.6</td><td>6.008259999630065</td><td>0.13</td><td>8.93e-09</td></tr>\n",
       "<tr><td>0.0631</td><td>0.1</td><td>0.0815</td><td>400.8</td><td>650.0</td><td>654.5</td><td>65001.8</td><td>591.3</td><td>4471.3</td><td>63.2</td><td>60530.5</td><td>5.154661611818207</td><td>0.05</td><td>1e-09</td></tr>\n",
       "<tr><td>0.1</td><td>0.158</td><td>0.129</td><td>419.5</td><td>571.9</td><td>1023.8</td><td>53411.3</td><td>961.5</td><td>5342.5</td><td>62.3</td><td>48068.8</td><td>5.0000000000004885</td><td>0.023</td><td>1.4e-10</td></tr>\n",
       "<tr><td>0.158</td><td>0.251</td><td>0.205</td><td>434.7</td><td>466.5</td><td>1045.9</td><td>35364.5</td><td>998.3</td><td>3820.1</td><td>47.6</td><td>31544.4</td><td>5.000000000000796</td><td>0.019</td><td>3.5e-11</td></tr>\n",
       "<tr><td>0.251</td><td>0.398</td><td>0.325</td><td>256.7</td><td>210.1</td><td>444.9</td><td>6957.3</td><td>434.0</td><td>1008.5</td><td>10.9</td><td>5948.9</td><td>5.000000000000114</td><td>0.017</td><td>9.24e-12</td></tr>\n",
       "<tr><td>0.398</td><td>0.631</td><td>0.515</td><td>264.2</td><td>165.1</td><td>321.6</td><td>4227.1</td><td>314.0</td><td>470.6</td><td>7.6</td><td>3756.5</td><td>5.00000000000054</td><td>0.021</td><td>3.42e-12</td></tr>\n",
       "<tr><td>0.631</td><td>1</td><td>0.815</td><td>83.4</td><td>38.1</td><td>58.5</td><td>174.4</td><td>58.2</td><td>46.1</td><td>0.3</td><td>128.3</td><td>4.999999999999999</td><td>0.022</td><td>1.05e-12</td></tr>\n",
       "<tr><td>1</td><td>1.58</td><td>1.29</td><td>44.4</td><td>15.3</td><td>38.0</td><td>15.3</td><td>38.0</td><td>15.3</td><td>0.0</td><td>0.0</td><td>5.0</td><td>0.015</td><td>2.23e-13</td></tr>\n",
       "<tr><td>1.58</td><td>2.51</td><td>2.05</td><td>110.4</td><td>28.8</td><td>45.4</td><td>88.7</td><td>45.1</td><td>9.0</td><td>0.4</td><td>79.7</td><td>5.000000000003053</td><td>0.037</td><td>1.61e-13</td></tr>\n",
       "<tr><td>2.51</td><td>3.98</td><td>3.25</td><td>51.2</td><td>10.0</td><td>19.3</td><td>1.9</td><td>19.3</td><td>1.9</td><td>0.0</td><td>0.0</td><td>5.217110691964801</td><td>0.042</td><td>5.39e-14</td></tr>\n",
       "<tr><td>3.98</td><td>6.31</td><td>5.15</td><td>76.8</td><td>11.3</td><td>5.5</td><td>5.1</td><td>5.4</td><td>0.3</td><td>0.1</td><td>4.7</td><td>4.999999999999999</td><td>0.071</td><td>2.76e-14</td></tr>\n",
       "<tr><td>6.31</td><td>10</td><td>8.15</td><td>89.5</td><td>10.0</td><td>0.1</td><td>0.0</td><td>0.1</td><td>0.0</td><td>0.0</td><td>0.0</td><td>5.977946512158209</td><td>0.13</td><td>1.5e-14</td></tr>\n",
       "<tr><td>10</td><td>15.8</td><td>12.9</td><td>159.9</td><td>12.9</td><td>0.1</td><td>8.6</td><td>0.0</td><td>0.0</td><td>0.1</td><td>8.6</td><td>4.999999999999999</td><td>0.4</td><td>1.39e-14</td></tr>\n",
       "<tr><td>15.8</td><td>25.1</td><td>20.5</td><td>167.1</td><td>10.0</td><td>0.0</td><td>0.0</td><td>0.0</td><td>0.0</td><td>0.0</td><td>0.0</td><td>5.986250026900071</td><td>0.81</td><td>8.45e-15</td></tr>\n",
       "<tr><td>25.1</td><td>39.8</td><td>32.5</td><td>nan</td><td>nan</td><td>0.0</td><td>0.0</td><td>0.0</td><td>0.0</td><td>0.0</td><td>0.0</td><td>nan</td><td>nan</td><td>nan</td></tr>\n",
       "<tr><td>39.8</td><td>63.1</td><td>51.5</td><td>nan</td><td>nan</td><td>0.0</td><td>0.0</td><td>0.0</td><td>0.0</td><td>0.0</td><td>0.0</td><td>nan</td><td>inf</td><td>inf</td></tr>\n",
       "<tr><td>63.1</td><td>100</td><td>81.5</td><td>nan</td><td>nan</td><td>0.0</td><td>0.0</td><td>0.0</td><td>0.0</td><td>0.0</td><td>0.0</td><td>nan</td><td>inf</td><td>inf</td></tr>\n",
       "<tr><td>100</td><td>158</td><td>129</td><td>nan</td><td>nan</td><td>0.0</td><td>0.0</td><td>0.0</td><td>0.0</td><td>0.0</td><td>0.0</td><td>nan</td><td>inf</td><td>inf</td></tr>\n",
       "<tr><td>158</td><td>251</td><td>205</td><td>nan</td><td>nan</td><td>0.0</td><td>0.0</td><td>0.0</td><td>0.0</td><td>0.0</td><td>0.0</td><td>nan</td><td>inf</td><td>inf</td></tr>\n",
       "</table>"
      ],
      "text/plain": [
       "<QTable length=21>\n",
       "reco_energy_low reco_energy_high ... relative_sensitivity flux_sensitivity\n",
       "      TeV             TeV        ...                      1 / (cm2 s TeV) \n",
       "    float64         float64      ...       float64            float64     \n",
       "--------------- ---------------- ... -------------------- ----------------\n",
       "         0.0158           0.0251 ...                  inf              inf\n",
       "         0.0251           0.0398 ...                 0.25          5.6e-08\n",
       "         0.0398           0.0631 ...                 0.13         8.93e-09\n",
       "         0.0631              0.1 ...                 0.05            1e-09\n",
       "            0.1            0.158 ...                0.023          1.4e-10\n",
       "          0.158            0.251 ...                0.019          3.5e-11\n",
       "          0.251            0.398 ...                0.017         9.24e-12\n",
       "          0.398            0.631 ...                0.021         3.42e-12\n",
       "          0.631                1 ...                0.022         1.05e-12\n",
       "              1             1.58 ...                0.015         2.23e-13\n",
       "           1.58             2.51 ...                0.037         1.61e-13\n",
       "           2.51             3.98 ...                0.042         5.39e-14\n",
       "           3.98             6.31 ...                0.071         2.76e-14\n",
       "           6.31               10 ...                 0.13          1.5e-14\n",
       "             10             15.8 ...                  0.4         1.39e-14\n",
       "           15.8             25.1 ...                 0.81         8.45e-15\n",
       "           25.1             39.8 ...                  nan              nan\n",
       "           39.8             63.1 ...                  inf              inf\n",
       "           63.1              100 ...                  inf              inf\n",
       "            100              158 ...                  inf              inf\n",
       "            158              251 ...                  inf              inf"
      ]
     },
     "execution_count": 21,
     "metadata": {},
     "output_type": "execute_result"
    }
   ],
   "source": [
    "pyirf_file = '../build/pyirf.fits.gz' \n",
    "\n",
    "sensitivity = QTable.read(pyirf_file, hdu='SENSITIVITY')[1:-1]\n",
    "\n",
    "# make it print nice\n",
    "sensitivity['reco_energy_low'].info.format = '.3g'\n",
    "sensitivity['reco_energy_high'].info.format = '.3g'\n",
    "sensitivity['reco_energy_center'].info.format = '.3g'\n",
    "sensitivity['relative_sensitivity'].info.format = '.2g'\n",
    "sensitivity['flux_sensitivity'].info.format = '.3g'\n",
    "\n",
    "for k in filter(lambda k: k.startswith('n_'), sensitivity.colnames):\n",
    "    sensitivity[k].info.format = '.1f'\n",
    "\n",
    "sensitivity"
   ]
  },
  {
   "cell_type": "code",
   "execution_count": 22,
   "metadata": {},
   "outputs": [],
   "source": [
    "sensitivity_unop = QTable.read(pyirf_file, hdu='SENSITIVITY_UNOP')[1:-1]"
   ]
  },
  {
   "cell_type": "code",
   "execution_count": 23,
   "metadata": {},
   "outputs": [
    {
     "data": {
      "text/html": [
       "<i>QTable length=11</i>\n",
       "<table id=\"table140527333823344\" class=\"table-striped table-bordered table-condensed\">\n",
       "<thead><tr><th>e_max</th><th>e_min</th><th>background_rate</th><th>background_rate_err</th><th>gamma_rate</th><th>gamma_rate_err</th><th>sensitivity_lima_1off</th><th>sensitivity_lima_1off_err</th><th>sensitivity_lima_3off</th><th>sensitivity_lima_3off_err</th><th>sensitivity_lima_5off</th><th>sensitivity_lima_5off_err</th><th>sensitivity_snr</th><th>sensitivity_snr_err</th><th>e_center</th><th>e_err_lo</th><th>e_err_hi</th></tr></thead>\n",
       "<thead><tr><th>GeV</th><th>GeV</th><th>1 / min</th><th>1 / min</th><th>1 / min</th><th>1 / min</th><th>1 / (cm2 s TeV)</th><th>1 / (cm2 s TeV)</th><th>1 / (cm2 s TeV)</th><th>1 / (cm2 s TeV)</th><th>1 / (cm2 s TeV)</th><th>1 / (cm2 s TeV)</th><th>1 / (cm2 s TeV)</th><th>1 / (cm2 s TeV)</th><th>GeV</th><th>GeV</th><th>GeV</th></tr></thead>\n",
       "<thead><tr><th>float64</th><th>float64</th><th>float64</th><th>float64</th><th>float64</th><th>float64</th><th>float64</th><th>float64</th><th>float64</th><th>float64</th><th>float64</th><th>float64</th><th>float64</th><th>float64</th><th>float64</th><th>float64</th><th>float64</th></tr></thead>\n",
       "<tr><td>100</td><td>63</td><td>4.06</td><td>0.08</td><td>3.01</td><td>0.13</td><td>7.6e-10</td><td>3.46e-11</td><td>6.13e-10</td><td>2.59e-11</td><td>5.87e-10</td><td>2.59e-11</td><td>7.3e-10</td><td>3e-11</td><td>79.4</td><td>16.4</td><td>20.6</td></tr>\n",
       "<tr><td>158</td><td>100</td><td>2.41</td><td>0.06</td><td>4.29</td><td>0.12</td><td>1.65e-10</td><td>4.85e-12</td><td>1.34e-10</td><td>3.81e-12</td><td>1.27e-10</td><td>3.46e-12</td><td>1.37e-10</td><td>5e-12</td><td>126</td><td>25.7</td><td>32.3</td></tr>\n",
       "<tr><td>251</td><td>158</td><td>0.54</td><td>0.03</td><td>3.37</td><td>0.08</td><td>3.91e-11</td><td>1.33e-12</td><td>3.15e-11</td><td>1.06e-12</td><td>2.98e-11</td><td>1.06e-12</td><td>3.05e-11</td><td>1.3e-12</td><td>199</td><td>41.1</td><td>51.9</td></tr>\n",
       "<tr><td>398</td><td>251</td><td>0.066</td><td>0.01</td><td>1.36</td><td>0.05</td><td>1.35e-11</td><td>9.68e-13</td><td>1.05e-11</td><td>7.74e-13</td><td>9.82e-12</td><td>7.26e-13</td><td>9.3e-12</td><td>8e-13</td><td>316</td><td>65.1</td><td>81.9</td></tr>\n",
       "<tr><td>631</td><td>398</td><td>0.027</td><td>0.006</td><td>1.22</td><td>0.04</td><td>3.56e-12</td><td>3.05e-13</td><td>2.73e-12</td><td>3.05e-13</td><td>2.56e-12</td><td>2.54e-13</td><td>2.3e-12</td><td>3e-13</td><td>501</td><td>103</td><td>130</td></tr>\n",
       "<tr><td>1e+03</td><td>631</td><td>0.0133</td><td>0.0018</td><td>0.88</td><td>0.04</td><td>1.24e-12</td><td>6.81e-14</td><td>9.3e-13</td><td>5.11e-14</td><td>8.68e-13</td><td>6.24e-14</td><td>7.2e-13</td><td>6e-14</td><td>794</td><td>163</td><td>206</td></tr>\n",
       "<tr><td>1.58e+03</td><td>1e+03</td><td>0.0059</td><td>0.0007</td><td>0.58</td><td>0.03</td><td>4.51e-13</td><td>2e-14</td><td>3.27e-13</td><td>1.64e-14</td><td>3.02e-13</td><td>1.64e-14</td><td>2.3e-13</td><td>1.8e-14</td><td>1.26e+03</td><td>259</td><td>326</td></tr>\n",
       "<tr><td>2.51e+03</td><td>1.58e+03</td><td>0.0027</td><td>0.0005</td><td>0.3</td><td>0.02</td><td>2.12e-13</td><td>1.12e-14</td><td>1.45e-13</td><td>1.06e-14</td><td>1.32e-13</td><td>1e-14</td><td>9e-14</td><td>1e-14</td><td>2e+03</td><td>410</td><td>517</td></tr>\n",
       "<tr><td>3.98e+03</td><td>2.51e+03</td><td>0.002</td><td>0.0005</td><td>0.166</td><td>0.016</td><td>1.02e-13</td><td>8.19e-15</td><td>7.04e-14</td><td>6.55e-15</td><td>6.22e-14</td><td>6.55e-15</td><td>4.1e-14</td><td>7e-15</td><td>3.16e+03</td><td>650</td><td>819</td></tr>\n",
       "<tr><td>6.31e+03</td><td>3.98e+03</td><td>0.0014</td><td>0.0003</td><td>0.093</td><td>0.012</td><td>4.69e-14</td><td>4.6e-15</td><td>3.13e-14</td><td>3.22e-15</td><td>2.8e-14</td><td>3.22e-15</td><td>1.7e-14</td><td>3e-15</td><td>5.01e+03</td><td>1.03e+03</td><td>1.3e+03</td></tr>\n",
       "<tr><td>1e+04</td><td>6.31e+03</td><td>0.0046</td><td>0.0015</td><td>0.06</td><td>0.01</td><td>2.72e-14</td><td>3.71e-15</td><td>1.98e-14</td><td>3.71e-15</td><td>1.85e-14</td><td>2.47e-15</td><td>1.3e-14</td><td>3e-15</td><td>7.94e+03</td><td>1.63e+03</td><td>2.06e+03</td></tr>\n",
       "</table>"
      ],
      "text/plain": [
       "<QTable length=11>\n",
       " e_max    e_min   background_rate ... e_center e_err_lo e_err_hi\n",
       "  GeV      GeV        1 / min     ...   GeV      GeV      GeV   \n",
       "float64  float64      float64     ... float64  float64  float64 \n",
       "-------- -------- --------------- ... -------- -------- --------\n",
       "     100       63            4.06 ...     79.4     16.4     20.6\n",
       "     158      100            2.41 ...      126     25.7     32.3\n",
       "     251      158            0.54 ...      199     41.1     51.9\n",
       "     398      251           0.066 ...      316     65.1     81.9\n",
       "     631      398           0.027 ...      501      103      130\n",
       "   1e+03      631          0.0133 ...      794      163      206\n",
       "1.58e+03    1e+03          0.0059 ... 1.26e+03      259      326\n",
       "2.51e+03 1.58e+03          0.0027 ...    2e+03      410      517\n",
       "3.98e+03 2.51e+03           0.002 ... 3.16e+03      650      819\n",
       "6.31e+03 3.98e+03          0.0014 ... 5.01e+03 1.03e+03  1.3e+03\n",
       "   1e+04 6.31e+03          0.0046 ... 7.94e+03 1.63e+03 2.06e+03"
      ]
     },
     "execution_count": 23,
     "metadata": {},
     "output_type": "execute_result"
    }
   ],
   "source": [
    "magic = QTable.read('magic_sensitivity_2014.ecsv')\n",
    "\n",
    "for k in filter(lambda k: k.startswith('sensitivity_') or k.startswith('e_'), magic.colnames):\n",
    "    magic[k].info.format = '.3g'\n",
    "\n",
    "magic"
   ]
  },
  {
   "cell_type": "code",
   "execution_count": 24,
   "metadata": {},
   "outputs": [
    {
     "data": {
      "image/png": "[encoded data removed]",
      "text/plain": [
       "<Figure size 648x432 with 1 Axes>"
      ]
     },
     "metadata": {
      "needs_background": "light"
     },
     "output_type": "display_data"
    }
   ],
   "source": [
    "unit = u.Unit('erg cm-2 s-1')\n",
    "\n",
    "for s, label in zip(\n",
    "    [sensitivity, sensitivity_unop], ['pyirf optimised cuts', r'$\\theta^2 < 0.03$ and gh_score$> 0.85$']\n",
    "):\n",
    "    e = s['reco_energy_center']\n",
    "    w = (s['reco_energy_high'] - s['reco_energy_low'])\n",
    "    s = (e**2 * s['flux_sensitivity'])\n",
    "\n",
    "    plt.errorbar(\n",
    "        e.to_value(u.TeV),\n",
    "        s.to_value(unit),\n",
    "        xerr=w.to_value(u.TeV) / 2,\n",
    "        ls='',\n",
    "        label=label\n",
    "    )\n",
    "\n",
    "e_magic = .5 * (magic['e_max'].to(u.TeV) + magic['e_min'].to(u.TeV))\n",
    "w_magic = (magic['e_max'].to(u.TeV) - magic['e_min'].to(u.TeV))\n",
    "s_magic = (e_magic**2 * magic['sensitivity_lima_5off'])\n",
    "\n",
    "plt.errorbar(\n",
    "    e_magic.to_value(u.TeV),\n",
    "    s_magic.to_value(unit),\n",
    "    xerr=w_magic.to_value(u.TeV) / 2,\n",
    "    ls='',\n",
    "    label='MAGIC 2014'\n",
    ")\n",
    "\n",
    "plt.title('Minimal Flux Satisfying Requirements for 50 hours')\n",
    "plt.xscale(\"log\")\n",
    "plt.yscale(\"log\")\n",
    "plt.xlabel(\"Reconstructed energy / TeV\")\n",
    "plt.ylabel(rf\"$(E^2 \\cdot \\mathrm{{Flux Sensitivity}}) /$ ({unit.to_string('latex')})\")\n",
    "\n",
    "plt.grid(which='both')\n",
    "plt.legend()\n",
    "plt.tight_layout()\n",
    "\n",
    "None"
   ]
  }
 ],
 "metadata": {
  "celltoolbar": "Raw Cell Format",
  "kernelspec": {
   "display_name": "Python 3",
   "language": "python",
   "name": "python3"
  },
  "language_info": {
   "codemirror_mode": {
    "name": "ipython",
    "version": 3
   },
   "file_extension": ".py",
   "mimetype": "text/x-python",
   "name": "python",
   "nbconvert_exporter": "python",
   "pygments_lexer": "ipython3",
   "version": "3.8.5"
  }
 },
 "nbformat": 4,
 "nbformat_minor": 4
}
