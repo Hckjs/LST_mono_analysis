{
 "cells": [
  {
   "cell_type": "code",
   "execution_count": 1,
   "metadata": {},
   "outputs": [],
   "source": [
    "import numpy as np\n",
    "import matplotlib.pyplot as plt\n",
    "import astropy.units as u\n",
    "from astropy.table import QTable\n",
    "\n",
    "%matplotlib inline"
   ]
  },
  {
   "cell_type": "code",
   "execution_count": 2,
   "metadata": {},
   "outputs": [],
   "source": [
    "plt.rcParams['figure.figsize'] = (9, 6)"
   ]
  },
  {
   "cell_type": "code",
   "execution_count": 3,
   "metadata": {
    "scrolled": true
   },
   "outputs": [
    {
     "data": {
      "text/html": [
       "<i>QTable length=21</i>\n",
       "<table id=\"table140693205728272\" class=\"table-striped table-bordered table-condensed\">\n",
       "<thead><tr><th>reco_energy_low</th><th>reco_energy_high</th><th>reco_energy_center</th><th>n_signal</th><th>n_signal_weighted</th><th>n_background</th><th>n_background_weighted</th><th>n_electron</th><th>n_electron_weighted</th><th>n_proton</th><th>n_proton_weighted</th><th>significance</th><th>relative_sensitivity</th><th>flux_sensitivity</th></tr></thead>\n",
       "<thead><tr><th>TeV</th><th>TeV</th><th>TeV</th><th></th><th></th><th></th><th></th><th></th><th></th><th></th><th></th><th></th><th></th><th>1 / (cm2 s TeV)</th></tr></thead>\n",
       "<thead><tr><th>float64</th><th>float64</th><th>float64</th><th>float64</th><th>float64</th><th>float64</th><th>float64</th><th>float64</th><th>float64</th><th>float64</th><th>float64</th><th>float64</th><th>float64</th><th>float64</th></tr></thead>\n",
       "<tr><td>0.0126</td><td>0.02</td><td>0.0163</td><td>nan</td><td>nan</td><td>0.0</td><td>0.0</td><td>0.0</td><td>0.0</td><td>0.0</td><td>0.0</td><td>nan</td><td>inf</td><td>inf</td></tr>\n",
       "<tr><td>0.02</td><td>0.0316</td><td>0.0258</td><td>0.3</td><td>10.0</td><td>0.0</td><td>0.0</td><td>0.0</td><td>0.0</td><td>0.0</td><td>0.0</td><td>5.986250026900071</td><td>0.11</td><td>4.49e-08</td></tr>\n",
       "<tr><td>0.0316</td><td>0.0501</td><td>0.0409</td><td>27.5</td><td>614.8</td><td>34.8</td><td>61484.8</td><td>29.8</td><td>3501.0</td><td>5.0</td><td>57983.8</td><td>5.013272146875557</td><td>0.087</td><td>1.07e-08</td></tr>\n",
       "<tr><td>0.0501</td><td>0.0794</td><td>0.0648</td><td>25.2</td><td>406.8</td><td>49.4</td><td>26803.2</td><td>46.1</td><td>3555.1</td><td>3.2</td><td>23248.1</td><td>5.000000000000955</td><td>0.038</td><td>1.41e-09</td></tr>\n",
       "<tr><td>0.0794</td><td>0.126</td><td>0.103</td><td>34.0</td><td>530.0</td><td>69.3</td><td>45798.5</td><td>64.6</td><td>4285.7</td><td>4.6</td><td>41512.8</td><td>4.999999999997703</td><td>0.018</td><td>2.04e-10</td></tr>\n",
       "<tr><td>0.126</td><td>0.2</td><td>0.163</td><td>39.2</td><td>487.5</td><td>160.3</td><td>38664.4</td><td>156.2</td><td>7170.8</td><td>4.1</td><td>31493.6</td><td>4.999999999999465</td><td>0.0075</td><td>2.49e-11</td></tr>\n",
       "<tr><td>0.2</td><td>0.316</td><td>0.258</td><td>47.1</td><td>438.8</td><td>212.5</td><td>31242.0</td><td>208.3</td><td>5958.5</td><td>4.3</td><td>25283.5</td><td>5.000000000000284</td><td>0.0057</td><td>5.66e-12</td></tr>\n",
       "<tr><td>0.316</td><td>0.501</td><td>0.409</td><td>73.3</td><td>523.7</td><td>358.7</td><td>44699.9</td><td>351.1</td><td>6524.7</td><td>7.6</td><td>38175.2</td><td>4.999999999999568</td><td>0.0056</td><td>1.65e-12</td></tr>\n",
       "<tr><td>0.501</td><td>0.794</td><td>0.648</td><td>22.3</td><td>117.5</td><td>54.9</td><td>2080.1</td><td>54.6</td><td>590.6</td><td>0.3</td><td>1489.5</td><td>5.000000000008052</td><td>0.0064</td><td>5.62e-13</td></tr>\n",
       "<tr><td>0.794</td><td>1.26</td><td>1.03</td><td>31.3</td><td>125.1</td><td>72.3</td><td>2373.9</td><td>71.9</td><td>412.1</td><td>0.4</td><td>1961.8</td><td>5.00000000000521</td><td>0.0066</td><td>1.75e-13</td></tr>\n",
       "<tr><td>1.26</td><td>2</td><td>1.63</td><td>27.0</td><td>80.5</td><td>54.4</td><td>930.9</td><td>54.1</td><td>152.4</td><td>0.3</td><td>778.5</td><td>5.00000000009282</td><td>0.0078</td><td>6.14e-14</td></tr>\n",
       "<tr><td>2</td><td>3.16</td><td>2.58</td><td>18.4</td><td>41.7</td><td>23.5</td><td>215.3</td><td>23.4</td><td>30.2</td><td>0.1</td><td>185.2</td><td>4.999999999999996</td><td>0.011</td><td>2.7e-14</td></tr>\n",
       "<tr><td>3.16</td><td>5.01</td><td>4.09</td><td>7.7</td><td>13.2</td><td>12.1</td><td>9.2</td><td>12.1</td><td>9.2</td><td>0.0</td><td>0.0</td><td>5.0</td><td>0.0064</td><td>4.51e-15</td></tr>\n",
       "<tr><td>5.01</td><td>7.94</td><td>6.48</td><td>7.8</td><td>10.0</td><td>0.6</td><td>0.4</td><td>0.6</td><td>0.4</td><td>0.0</td><td>0.0</td><td>5.746515799626287</td><td>0.016</td><td>3.3e-15</td></tr>\n",
       "<tr><td>7.94</td><td>12.6</td><td>10.3</td><td>10.5</td><td>10.0</td><td>0.0</td><td>0.0</td><td>0.0</td><td>0.0</td><td>0.0</td><td>0.0</td><td>5.986250026900071</td><td>0.029</td><td>1.86e-15</td></tr>\n",
       "<tr><td>12.6</td><td>20</td><td>16.3</td><td>14.2</td><td>10.0</td><td>0.0</td><td>0.0</td><td>0.0</td><td>0.0</td><td>0.0</td><td>0.0</td><td>5.986250026900071</td><td>0.054</td><td>1.02e-15</td></tr>\n",
       "<tr><td>20</td><td>31.6</td><td>25.8</td><td>18.8</td><td>10.0</td><td>0.0</td><td>0.0</td><td>0.0</td><td>0.0</td><td>0.0</td><td>0.0</td><td>5.986250026900071</td><td>0.097</td><td>5.51e-16</td></tr>\n",
       "<tr><td>31.6</td><td>50.1</td><td>40.9</td><td>22.5</td><td>10.0</td><td>0.0</td><td>0.0</td><td>0.0</td><td>0.0</td><td>0.0</td><td>0.0</td><td>5.98625002690007</td><td>0.58</td><td>9.78e-16</td></tr>\n",
       "<tr><td>50.1</td><td>79.4</td><td>64.8</td><td>nan</td><td>nan</td><td>0.0</td><td>0.0</td><td>0.0</td><td>0.0</td><td>0.0</td><td>0.0</td><td>nan</td><td>inf</td><td>inf</td></tr>\n",
       "<tr><td>79.4</td><td>126</td><td>103</td><td>nan</td><td>nan</td><td>0.0</td><td>0.0</td><td>0.0</td><td>0.0</td><td>0.0</td><td>0.0</td><td>nan</td><td>inf</td><td>inf</td></tr>\n",
       "<tr><td>126</td><td>200</td><td>163</td><td>nan</td><td>nan</td><td>0.0</td><td>0.0</td><td>0.0</td><td>0.0</td><td>0.0</td><td>0.0</td><td>nan</td><td>inf</td><td>inf</td></tr>\n",
       "</table>"
      ],
      "text/plain": [
       "<QTable length=21>\n",
       "reco_energy_low reco_energy_high ... relative_sensitivity flux_sensitivity\n",
       "      TeV             TeV        ...                      1 / (cm2 s TeV) \n",
       "    float64         float64      ...       float64            float64     \n",
       "--------------- ---------------- ... -------------------- ----------------\n",
       "         0.0126             0.02 ...                  inf              inf\n",
       "           0.02           0.0316 ...                 0.11         4.49e-08\n",
       "         0.0316           0.0501 ...                0.087         1.07e-08\n",
       "         0.0501           0.0794 ...                0.038         1.41e-09\n",
       "         0.0794            0.126 ...                0.018         2.04e-10\n",
       "          0.126              0.2 ...               0.0075         2.49e-11\n",
       "            0.2            0.316 ...               0.0057         5.66e-12\n",
       "          0.316            0.501 ...               0.0056         1.65e-12\n",
       "          0.501            0.794 ...               0.0064         5.62e-13\n",
       "          0.794             1.26 ...               0.0066         1.75e-13\n",
       "           1.26                2 ...               0.0078         6.14e-14\n",
       "              2             3.16 ...                0.011          2.7e-14\n",
       "           3.16             5.01 ...               0.0064         4.51e-15\n",
       "           5.01             7.94 ...                0.016          3.3e-15\n",
       "           7.94             12.6 ...                0.029         1.86e-15\n",
       "           12.6               20 ...                0.054         1.02e-15\n",
       "             20             31.6 ...                0.097         5.51e-16\n",
       "           31.6             50.1 ...                 0.58         9.78e-16\n",
       "           50.1             79.4 ...                  inf              inf\n",
       "           79.4              126 ...                  inf              inf\n",
       "            126              200 ...                  inf              inf"
      ]
     },
     "execution_count": 3,
     "metadata": {},
     "output_type": "execute_result"
    }
   ],
   "source": [
    "pyirf_file = '../build/pyirf.fits.gz' \n",
    "\n",
    "sensitivity = QTable.read(pyirf_file, hdu='SENSITIVITY')[1:-1]\n",
    "\n",
    "# make it print nice\n",
    "sensitivity['reco_energy_low'].info.format = '.3g'\n",
    "sensitivity['reco_energy_high'].info.format = '.3g'\n",
    "sensitivity['reco_energy_center'].info.format = '.3g'\n",
    "sensitivity['relative_sensitivity'].info.format = '.2g'\n",
    "sensitivity['flux_sensitivity'].info.format = '.3g'\n",
    "\n",
    "for k in filter(lambda k: k.startswith('n_'), sensitivity.colnames):\n",
    "    sensitivity[k].info.format = '.1f'\n",
    "\n",
    "sensitivity"
   ]
  },
  {
   "cell_type": "code",
   "execution_count": 4,
   "metadata": {},
   "outputs": [],
   "source": [
    "sensitivity_unop = QTable.read(pyirf_file, hdu='SENSITIVITY_UNOP')[1:-1]"
   ]
  },
  {
   "cell_type": "code",
   "execution_count": 5,
   "metadata": {},
   "outputs": [
    {
     "data": {
      "text/html": [
       "<i>QTable length=11</i>\n",
       "<table id=\"table140693190938384\" class=\"table-striped table-bordered table-condensed\">\n",
       "<thead><tr><th>e_max</th><th>e_min</th><th>background_rate</th><th>background_rate_err</th><th>gamma_rate</th><th>gamma_rate_err</th><th>sensitivity_lima_1off</th><th>sensitivity_lima_1off_err</th><th>sensitivity_lima_3off</th><th>sensitivity_lima_3off_err</th><th>sensitivity_lima_5off</th><th>sensitivity_lima_5off_err</th><th>sensitivity_snr</th><th>sensitivity_snr_err</th><th>e_center</th><th>e_err_lo</th><th>e_err_hi</th></tr></thead>\n",
       "<thead><tr><th>GeV</th><th>GeV</th><th>1 / min</th><th>1 / min</th><th>1 / min</th><th>1 / min</th><th>1 / (cm2 s TeV)</th><th>1 / (cm2 s TeV)</th><th>1 / (cm2 s TeV)</th><th>1 / (cm2 s TeV)</th><th>1 / (cm2 s TeV)</th><th>1 / (cm2 s TeV)</th><th>1 / (cm2 s TeV)</th><th>1 / (cm2 s TeV)</th><th>GeV</th><th>GeV</th><th>GeV</th></tr></thead>\n",
       "<thead><tr><th>float64</th><th>float64</th><th>float64</th><th>float64</th><th>float64</th><th>float64</th><th>float64</th><th>float64</th><th>float64</th><th>float64</th><th>float64</th><th>float64</th><th>float64</th><th>float64</th><th>float64</th><th>float64</th><th>float64</th></tr></thead>\n",
       "<tr><td>100.0</td><td>63.0</td><td>4.06</td><td>0.08</td><td>3.01</td><td>0.13</td><td>7.601958508074096e-10</td><td>3.455435685488226e-11</td><td>6.1333983417416e-10</td><td>2.5915767641161692e-11</td><td>5.874240665329984e-10</td><td>2.5915767641161692e-11</td><td>7.3e-10</td><td>3e-11</td><td>79.37253933193772</td><td>16.372539331937716</td><td>20.627460668062284</td></tr>\n",
       "<tr><td>158.0</td><td>100.0</td><td>2.41</td><td>0.06</td><td>4.29</td><td>0.12</td><td>1.650780087464995e-10</td><td>4.845056860484262e-12</td><td>1.339312146433864e-10</td><td>3.806830390380492e-12</td><td>1.270097048426946e-10</td><td>3.460754900345902e-12</td><td>1.37e-10</td><td>5e-12</td><td>125.69805089976535</td><td>25.69805089976535</td><td>32.30194910023465</td></tr>\n",
       "<tr><td>251.0</td><td>158.0</td><td>0.54</td><td>0.03</td><td>3.37</td><td>0.08</td><td>3.910257867777991e-11</td><td>1.325511141619658e-12</td><td>3.154716517054787e-11</td><td>1.0604089132957266e-12</td><td>2.982400068644231e-11</td><td>1.0604089132957266e-12</td><td>3.05e-11</td><td>1.3000000000000001e-12</td><td>199.14316458266902</td><td>41.143164582669016</td><td>51.856835417330984</td></tr>\n",
       "<tr><td>398.0</td><td>251.0</td><td>0.066</td><td>0.01</td><td>1.36</td><td>0.05</td><td>1.3547361416709163e-11</td><td>9.67668672622083e-13</td><td>1.0450821664318497e-11</td><td>7.741349380976664e-13</td><td>9.821837027114142e-12</td><td>7.257515044665623e-13</td><td>9.300000000000001e-12</td><td>8e-13</td><td>316.066448709761</td><td>65.066448709761</td><td>81.933551290239</td></tr>\n",
       "<tr><td>631.0</td><td>398.0</td><td>0.027</td><td>0.006</td><td>1.22</td><td>0.04</td><td>3.5556881058906414e-12</td><td>3.047732662191978e-13</td><td>2.7260275478494916e-12</td><td>3.047732662191978e-13</td><td>2.556709066616604e-12</td><td>2.539777218493315e-13</td><td>2.3e-12</td><td>3e-13</td><td>501.13670789516107</td><td>103.13670789516107</td><td>129.86329210483893</td></tr>\n",
       "<tr><td>1000.0</td><td>631.0</td><td>0.0133</td><td>0.0018</td><td>0.88</td><td>0.04</td><td>1.2365835413508895e-12</td><td>6.806881878995721e-14</td><td>9.30273856796082e-13</td><td>5.105161409246791e-14</td><td>8.678774395719544e-13</td><td>6.239641722412745e-14</td><td>7.2e-13</td><td>6e-14</td><td>794.35508432942</td><td>163.35508432942004</td><td>205.64491567057996</td></tr>\n",
       "<tr><td>1585.0</td><td>1000.0</td><td>0.0059</td><td>0.0007</td><td>0.58</td><td>0.03</td><td>4.5104238659926285e-13</td><td>2.0005912308838273e-14</td><td>3.2736947414462623e-13</td><td>1.6368473707231312e-14</td><td>3.0190740393337754e-13</td><td>1.6368473707231312e-14</td><td>2.3000000000000003e-13</td><td>1.8e-14</td><td>1258.967831201417</td><td>258.9678312014171</td><td>326.0321687985829</td></tr>\n",
       "<tr><td>2512.0</td><td>1585.0</td><td>0.0027</td><td>0.0005</td><td>0.3</td><td>0.02</td><td>2.1199333369145533e-13</td><td>1.115754387849765e-14</td><td>1.4504807042046943e-13</td><td>1.0599666684572767e-14</td><td>1.3165901776627226e-13</td><td>1.0041789490647884e-14</td><td>9e-14</td><td>1e-14</td><td>1995.374651537901</td><td>410.37465153790095</td><td>516.625348462099</td></tr>\n",
       "<tr><td>3981.0</td><td>2512.0</td><td>0.002</td><td>0.0005</td><td>0.166</td><td>0.016</td><td>1.015262173688021e-13</td><td>8.187598174903395e-15</td><td>7.041334430416919e-14</td><td>6.550078539922716e-15</td><td>6.22257461292658e-14</td><td>6.550078539922716e-15</td><td>4.1e-14</td><td>7e-15</td><td>3162.3206668521143</td><td>650.3206668521143</td><td>818.6793331478857</td></tr>\n",
       "<tr><td>6310.0</td><td>3981.0</td><td>0.0014</td><td>0.0003</td><td>0.093</td><td>0.012</td><td>4.689996060266254e-14</td><td>4.59803535320221e-15</td><td>3.126664040177503e-14</td><td>3.2186247472415472e-15</td><td>2.804801565453348e-14</td><td>3.2186247472415472e-15</td><td>1.7e-14</td><td>3e-15</td><td>5011.996608139315</td><td>1030.996608139315</td><td>1298.003391860685</td></tr>\n",
       "<tr><td>10000.0</td><td>6310.0</td><td>0.0046</td><td>0.0015</td><td>0.06</td><td>0.01</td><td>2.717581659166208e-14</td><td>3.705793171590284e-15</td><td>1.9764230248481512e-14</td><td>3.705793171590284e-15</td><td>1.8528965857951418e-14</td><td>2.470528781060189e-15</td><td>1.3e-14</td><td>3e-15</td><td>7943.550843294201</td><td>1633.5508432942006</td><td>2056.4491567057994</td></tr>\n",
       "</table>"
      ],
      "text/plain": [
       "<QTable length=11>\n",
       " e_max   e_min  background_rate ...      e_err_lo           e_err_hi     \n",
       "  GeV     GeV       1 / min     ...        GeV                GeV        \n",
       "float64 float64     float64     ...      float64            float64      \n",
       "------- ------- --------------- ... ------------------ ------------------\n",
       "  100.0    63.0            4.06 ... 16.372539331937716 20.627460668062284\n",
       "  158.0   100.0            2.41 ...  25.69805089976535  32.30194910023465\n",
       "  251.0   158.0            0.54 ... 41.143164582669016 51.856835417330984\n",
       "  398.0   251.0           0.066 ...    65.066448709761    81.933551290239\n",
       "  631.0   398.0           0.027 ... 103.13670789516107 129.86329210483893\n",
       " 1000.0   631.0          0.0133 ... 163.35508432942004 205.64491567057996\n",
       " 1585.0  1000.0          0.0059 ...  258.9678312014171  326.0321687985829\n",
       " 2512.0  1585.0          0.0027 ... 410.37465153790095   516.625348462099\n",
       " 3981.0  2512.0           0.002 ...  650.3206668521143  818.6793331478857\n",
       " 6310.0  3981.0          0.0014 ...  1030.996608139315  1298.003391860685\n",
       "10000.0  6310.0          0.0046 ... 1633.5508432942006 2056.4491567057994"
      ]
     },
     "execution_count": 5,
     "metadata": {},
     "output_type": "execute_result"
    }
   ],
   "source": [
    "sensitivity_magic = QTable.read('magic_sensitivity_2014.ecsv')\n",
    "\n",
    "sensitivity_magic"
   ]
  },
  {
   "cell_type": "code",
   "execution_count": 6,
   "metadata": {},
   "outputs": [
    {
     "data": {
      "image/png": "[encoded data removed]",
      "text/plain": [
       "<Figure size 648x432 with 1 Axes>"
      ]
     },
     "metadata": {
      "needs_background": "light"
     },
     "output_type": "display_data"
    }
   ],
   "source": [
    "unit = u.Unit('erg cm-2 s-1')\n",
    "\n",
    "for s, label in zip(\n",
    "    [sensitivity, sensitivity_unop], ['pyirf optimised cuts', r'$\\theta^2 < 0.03$ and gh_score$> 0.85$']\n",
    "):\n",
    "    e = s['reco_energy_center']\n",
    "    w = (s['reco_energy_high'] - s['reco_energy_low'])\n",
    "    s = (e**2 * s['flux_sensitivity'])\n",
    "\n",
    "    plt.errorbar(\n",
    "        e.to_value(u.TeV),\n",
    "        s.to_value(unit),\n",
    "        xerr=w.to_value(u.TeV) / 2,\n",
    "        ls='',\n",
    "        label=label\n",
    "    )\n",
    "\n",
    "e_magic = sensitivity_magic['e_center']\n",
    "w_magic = (sensitivity_magic['e_max'] - sensitivity_magic['e_min'])\n",
    "s_magic = (e_magic**2 * sensitivity_magic['sensitivity_snr'])\n",
    "\n",
    "plt.errorbar(\n",
    "    e_magic.to_value(u.TeV),\n",
    "    s_magic.to_value(unit),\n",
    "    xerr=w_magic.to_value(u.TeV) / 2,\n",
    "    ls='',\n",
    "    label='MAGIC 2014'\n",
    ")\n",
    "\n",
    "plt.title('Minimal Flux Satisfying Requirements for 50 hours')\n",
    "plt.xscale(\"log\")\n",
    "plt.yscale(\"log\")\n",
    "plt.xlabel(\"Reconstructed energy / TeV\")\n",
    "plt.ylabel(rf\"$(E^2 \\cdot \\mathrm{{Flux Sensitivity}}) /$ ({unit.to_string('latex')})\")\n",
    "\n",
    "plt.grid(which='both')\n",
    "plt.legend()\n",
    "plt.tight_layout()\n",
    "\n",
    "None"
   ]
  }
 ],
 "metadata": {
  "kernelspec": {
   "display_name": "Python 3",
   "language": "python",
   "name": "python3"
  },
  "language_info": {
   "codemirror_mode": {
    "name": "ipython",
    "version": 3
   },
   "file_extension": ".py",
   "mimetype": "text/x-python",
   "name": "python",
   "nbconvert_exporter": "python",
   "pygments_lexer": "ipython3",
   "version": "3.8.5"
  }
 },
 "nbformat": 4,
 "nbformat_minor": 4
}
